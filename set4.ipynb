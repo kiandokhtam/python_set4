{
 "cells": [
  {
   "cell_type": "code",
   "execution_count": 9,
   "id": "d3e1b3c1",
   "metadata": {},
   "outputs": [],
   "source": [
    "import math"
   ]
  },
  {
   "cell_type": "code",
   "execution_count": 2,
   "id": "290e26f8",
   "metadata": {},
   "outputs": [],
   "source": [
    "#1 the sum of a list or tuple\n",
    "def summary(a, b, c, d):\n",
    "    '''\n",
    "    This function adds up numbers given to it as paramethers\n",
    "    '''\n",
    "    result = a + b + c + d\n",
    "    print(result)\n"
   ]
  },
  {
   "cell_type": "code",
   "execution_count": 3,
   "id": "33a022f1",
   "metadata": {},
   "outputs": [
    {
     "name": "stdout",
     "output_type": "stream",
     "text": [
      "14\n"
     ]
    }
   ],
   "source": [
    "summary(5,4,3,2)"
   ]
  },
  {
   "cell_type": "code",
   "execution_count": 19,
   "id": "f8d4950f",
   "metadata": {},
   "outputs": [],
   "source": [
    "numbers = (5, 10, 12)"
   ]
  },
  {
   "cell_type": "code",
   "execution_count": 22,
   "id": "18b63cfd",
   "metadata": {},
   "outputs": [],
   "source": [
    "def summary_2(numbers):\n",
    "    '''\n",
    "    This function adds up numbers given to it in a tuple\n",
    "    '''\n",
    "    result = [i for i in numbers]\n",
    "    #using the predefined sum to get the addition and show it back to the user\n",
    "    return sum(result)\n"
   ]
  },
  {
   "cell_type": "code",
   "execution_count": 23,
   "id": "211fcfc5",
   "metadata": {},
   "outputs": [
    {
     "data": {
      "text/plain": [
       "27"
      ]
     },
     "execution_count": 23,
     "metadata": {},
     "output_type": "execute_result"
    }
   ],
   "source": [
    "summary_2(numbers)"
   ]
  },
  {
   "cell_type": "code",
   "execution_count": 13,
   "id": "56f8c4a3",
   "metadata": {},
   "outputs": [],
   "source": [
    "#2 showing the sum of sqaure of numbers in a list or tuple\n",
    "def sum_square(*args):\n",
    "    '''\n",
    "    this function uses the numbers of paramethers to give back the sum of the square of each element or number\n",
    "    '''\n",
    "    sq_sum = [i**2 for i in args]\n",
    "    print(sum(sq_sum))"
   ]
  },
  {
   "cell_type": "code",
   "execution_count": 14,
   "id": "6ff756c2",
   "metadata": {},
   "outputs": [
    {
     "name": "stdout",
     "output_type": "stream",
     "text": [
      "161\n"
     ]
    }
   ],
   "source": [
    "sum_square(5,6,10)"
   ]
  },
  {
   "cell_type": "code",
   "execution_count": 15,
   "id": "2a3d609c",
   "metadata": {},
   "outputs": [
    {
     "name": "stdout",
     "output_type": "stream",
     "text": [
      "20\n"
     ]
    }
   ],
   "source": [
    "sum_square(2,4)"
   ]
  },
  {
   "cell_type": "code",
   "execution_count": 20,
   "id": "b8db0bcc",
   "metadata": {},
   "outputs": [],
   "source": [
    "def sum_square_2(numbers):\n",
    "    '''\n",
    "    this function uses the numbers in a list to give back the sum of the square of each element or number\n",
    "    '''\n",
    "    sq_sum = [i**2 for i in numbers]\n",
    "    print(sum(sq_sum))"
   ]
  },
  {
   "cell_type": "code",
   "execution_count": 22,
   "id": "896ce7f9",
   "metadata": {},
   "outputs": [
    {
     "name": "stdout",
     "output_type": "stream",
     "text": [
      "269\n"
     ]
    }
   ],
   "source": [
    "sum_square_2(numbers)"
   ]
  },
  {
   "cell_type": "code",
   "execution_count": 23,
   "id": "874c9a83",
   "metadata": {},
   "outputs": [],
   "source": [
    "#3 sum of squares in a tuple or list - sum of the numbers in the list or tuple\n",
    "def minus_sqsum(*args):\n",
    "    '''\n",
    "    this function first adds up the squares of the paramether numbers, then adds up their sum and then\n",
    "    subtracts them to show the final result\n",
    "    '''\n",
    "    #getting the square sum of numbers\n",
    "    sq_sum = sum([q**2 for q in args])\n",
    "    #getting the sum of all numbers in paramether\n",
    "    summary = sum(args)\n",
    "    result = sq_sum - summary\n",
    "    print(result)\n",
    "    "
   ]
  },
  {
   "cell_type": "code",
   "execution_count": 24,
   "id": "0e88bf6f",
   "metadata": {},
   "outputs": [
    {
     "name": "stdout",
     "output_type": "stream",
     "text": [
      "112\n"
     ]
    }
   ],
   "source": [
    "minus_sqsum(5,10,2)"
   ]
  },
  {
   "cell_type": "code",
   "execution_count": 25,
   "id": "d1306b2c",
   "metadata": {},
   "outputs": [],
   "source": [
    "def minus_sqsum_2(numbers):\n",
    "    '''\n",
    "   this function first adds up the squares of the list numbers, then adds up their sum and then\n",
    "    subtracts them to show the final result\n",
    "    '''\n",
    "    #getting the sum of all sqaures of list\n",
    "    sq_sum = sum([l**2 for l in numbers])\n",
    "    #getting the sum of all numbers in the list\n",
    "    summary = sum(numbers)\n",
    "    #getting the result\n",
    "    result = sq_sum - summary\n",
    "    print(result)"
   ]
  },
  {
   "cell_type": "code",
   "execution_count": 26,
   "id": "c85b8dfa",
   "metadata": {},
   "outputs": [
    {
     "name": "stdout",
     "output_type": "stream",
     "text": [
      "242\n"
     ]
    }
   ],
   "source": [
    "minus_sqsum_2(numbers)"
   ]
  },
  {
   "cell_type": "code",
   "execution_count": 8,
   "id": "d3dfc79d",
   "metadata": {},
   "outputs": [],
   "source": [
    "numbers = [25, 12, 10]"
   ]
  },
  {
   "cell_type": "code",
   "execution_count": 16,
   "id": "1b4d5007",
   "metadata": {},
   "outputs": [],
   "source": [
    "#4 checking if the given paramether is bigger than all the numbers in a list or not\n",
    "def check_max(a):\n",
    "    '''\n",
    "    this function checks if the given paramether is larger than the members of a list \n",
    "    '''\n",
    "    #if the max of the list is smaller than the paramether, then the paramether is the largest\n",
    "    maximum_list= max(numbers)\n",
    "    if maximum_list < a:\n",
    "        return True\n",
    "    if maximum_list > a:\n",
    "        return False\n",
    "        \n",
    "    "
   ]
  },
  {
   "cell_type": "code",
   "execution_count": 17,
   "id": "e7ee2534",
   "metadata": {},
   "outputs": [
    {
     "data": {
      "text/plain": [
       "False"
      ]
     },
     "execution_count": 17,
     "metadata": {},
     "output_type": "execute_result"
    }
   ],
   "source": [
    "check_max(22)"
   ]
  },
  {
   "cell_type": "code",
   "execution_count": 18,
   "id": "d51cfc8f",
   "metadata": {},
   "outputs": [
    {
     "data": {
      "text/plain": [
       "True"
      ]
     },
     "execution_count": 18,
     "metadata": {},
     "output_type": "execute_result"
    }
   ],
   "source": [
    "check_max(30)"
   ]
  },
  {
   "cell_type": "code",
   "execution_count": 22,
   "id": "183b79bb",
   "metadata": {},
   "outputs": [],
   "source": [
    "#5 give the ascii of a character\n",
    "def ascii_check(char):\n",
    "    '''\n",
    "    ord() gives the ascii of the char\n",
    "    '''\n",
    "    #returning the ord of the char\n",
    "    return ord(char)"
   ]
  },
  {
   "cell_type": "code",
   "execution_count": 23,
   "id": "33033cc0",
   "metadata": {},
   "outputs": [
    {
     "data": {
      "text/plain": [
       "97"
      ]
     },
     "execution_count": 23,
     "metadata": {},
     "output_type": "execute_result"
    }
   ],
   "source": [
    "ascii_check('a')"
   ]
  },
  {
   "cell_type": "code",
   "execution_count": 33,
   "id": "83cbd86f",
   "metadata": {},
   "outputs": [],
   "source": [
    "#6 a function that replaces two variables\n",
    "def replacement(a,b):\n",
    "    c = a\n",
    "    a = b\n",
    "    b = c\n",
    "    print('a is now {}'.format(a))\n",
    "    print('b is now {} '.format(b))"
   ]
  },
  {
   "cell_type": "code",
   "execution_count": 34,
   "id": "a87f4a07",
   "metadata": {},
   "outputs": [
    {
     "name": "stdout",
     "output_type": "stream",
     "text": [
      "a is now 2\n",
      "b is now 10 \n"
     ]
    }
   ],
   "source": [
    "replacement(10, 2)"
   ]
  },
  {
   "cell_type": "code",
   "execution_count": 56,
   "id": "69e49ce3",
   "metadata": {},
   "outputs": [],
   "source": [
    "#7 finding all the bits = 1 in the binary form of a number\n",
    "def find_bits(number):\n",
    "    \"\"\"\n",
    "    here the goal is to find the bits in the binary number, so first we get the binary number,\n",
    "    since it's a str, then we search for 'i' specifically with a for loop. \n",
    "    a counter in advance gives an empty space to add later findings inside it.\n",
    "    \n",
    "    \"\"\"\n",
    "    counter = 0\n",
    "    num_bin = (bin(number))\n",
    "    for i in num_bin:\n",
    "        #if i equals '1' not 1: cause then the index will be one for the whole string, thus no 1 will be found\n",
    "        if i == '1':\n",
    "            counter += 1\n",
    "    print(counter)"
   ]
  },
  {
   "cell_type": "code",
   "execution_count": 57,
   "id": "d4d594f7",
   "metadata": {},
   "outputs": [
    {
     "name": "stdout",
     "output_type": "stream",
     "text": [
      "4\n"
     ]
    }
   ],
   "source": [
    "find_bits(75)"
   ]
  },
  {
   "cell_type": "code",
   "execution_count": 49,
   "id": "1148cd68",
   "metadata": {},
   "outputs": [
    {
     "data": {
      "text/plain": [
       "str"
      ]
     },
     "execution_count": 49,
     "metadata": {},
     "output_type": "execute_result"
    }
   ],
   "source": [
    "type(bin(129))"
   ]
  },
  {
   "cell_type": "code",
   "execution_count": 58,
   "id": "b2f25801",
   "metadata": {},
   "outputs": [],
   "source": [
    "#8 check to see if a given number is savable in 64 bits or not"
   ]
  },
  {
   "cell_type": "code",
   "execution_count": 87,
   "id": "8705801e",
   "metadata": {},
   "outputs": [],
   "source": [
    "#9 a program that counts all small and capital letters of a given string\n",
    "def upp_low(phrase):\n",
    "    '''\n",
    "    this function counts upper and lower case letters\n",
    "    '''\n",
    "    #creating empty room for later addition\n",
    "    uppercase = 0\n",
    "    lowercase = 0\n",
    "    for i in phrase:\n",
    "        #checking uppercases in the str\n",
    "        if i.isupper():\n",
    "            uppercase += 1\n",
    "            #checking lowercases in the str\n",
    "        elif i.islower():\n",
    "            lowercase += 1\n",
    "            #final result\n",
    "    print ('lowercase letters are {}, and uppercase letters are {}'.format(lowercase, uppercase))\n",
    "        \n",
    "    "
   ]
  },
  {
   "cell_type": "code",
   "execution_count": 88,
   "id": "003ad44c",
   "metadata": {},
   "outputs": [
    {
     "name": "stdout",
     "output_type": "stream",
     "text": [
      "lowercase letters are 10, and uppercase letters are 5\n"
     ]
    }
   ],
   "source": [
    "upp_low('This Is A Test Test')"
   ]
  },
  {
   "cell_type": "code",
   "execution_count": 89,
   "id": "67126144",
   "metadata": {},
   "outputs": [],
   "source": [
    "#10 hexadecimal and binary generator\n",
    "def hex_bin(number):\n",
    "    print(bin(number), 'is the binary equivalent')\n",
    "    print(hex(number), 'is the hexadecimal equivalent')"
   ]
  },
  {
   "cell_type": "code",
   "execution_count": 90,
   "id": "19820a80",
   "metadata": {},
   "outputs": [
    {
     "name": "stdout",
     "output_type": "stream",
     "text": [
      "0b1100100 is the binary equivalent\n",
      "0x64 is the hexadecimal equivalent\n"
     ]
    }
   ],
   "source": [
    "hex_bin(100)"
   ]
  },
  {
   "cell_type": "code",
   "execution_count": 91,
   "id": "a7b4b3d4",
   "metadata": {},
   "outputs": [],
   "source": [
    "number = [10, 25, 35, 4]"
   ]
  },
  {
   "cell_type": "code",
   "execution_count": 92,
   "id": "c22f28f1",
   "metadata": {},
   "outputs": [],
   "source": [
    "#11 check to see repeated numbers in a list or tuple\n",
    "def repeat_check(number):\n",
    "    '''\n",
    "    if the length of the set and the given list or tuple are the same then there are no repeated elements\n",
    "    or numbers. however, if the lengths are different, there are repeated elements, since sets delete\n",
    "    repeated elements. lists can have repeated elements\n",
    "    '''\n",
    "    if len(set(number)) == len(number):\n",
    "        print('There are no repeated elements')\n",
    "    else:\n",
    "        print('There sure are repeated elements to look for')"
   ]
  },
  {
   "cell_type": "code",
   "execution_count": 93,
   "id": "70b071ff",
   "metadata": {},
   "outputs": [
    {
     "name": "stdout",
     "output_type": "stream",
     "text": [
      "There are no repeated elements\n"
     ]
    }
   ],
   "source": [
    "repeat_check(number)"
   ]
  },
  {
   "cell_type": "code",
   "execution_count": 94,
   "id": "48386228",
   "metadata": {},
   "outputs": [],
   "source": [
    "number = (10, 25, 35, 4, 4)"
   ]
  },
  {
   "cell_type": "code",
   "execution_count": 95,
   "id": "2434ef35",
   "metadata": {},
   "outputs": [
    {
     "name": "stdout",
     "output_type": "stream",
     "text": [
      "There sure are repeated elements to look for\n"
     ]
    }
   ],
   "source": [
    "repeat_check(number)"
   ]
  },
  {
   "cell_type": "code",
   "execution_count": 97,
   "id": "c581b98e",
   "metadata": {},
   "outputs": [],
   "source": [
    "#12 function to delete repeated elements in a list\n",
    "def del_repeated(lst):\n",
    "    print(set(lst),' \\nthe list without repeated elements is shown above')"
   ]
  },
  {
   "cell_type": "code",
   "execution_count": 98,
   "id": "1081d2a9",
   "metadata": {},
   "outputs": [
    {
     "name": "stdout",
     "output_type": "stream",
     "text": [
      "{10, 35, 20}  \n",
      "the list without repeated elements is shown above\n"
     ]
    }
   ],
   "source": [
    "del_repeated([10, 20 , 35 , 10])"
   ]
  },
  {
   "cell_type": "code",
   "execution_count": 109,
   "id": "b1b56c7d",
   "metadata": {},
   "outputs": [],
   "source": [
    "#13\n",
    "def str_lst_count():\n",
    "    '''\n",
    "    first, get the input text, then split the words from space point, then make it a list.\n",
    "    now, the elements of the list should be counted\n",
    "    however, i can only find a way to count certain words, not all\n",
    "    '''\n",
    "    txt = input('Enter your text here: ')\n",
    "    str_lst = list(txt.split())\n",
    "    num_elements = str_lst.count('the')\n",
    "    print('{str_lst} the list of words in this text is shown above.'format(str_lst))\n",
    "    print(num_elements)"
   ]
  },
  {
   "cell_type": "code",
   "execution_count": 110,
   "id": "0478b27f",
   "metadata": {},
   "outputs": [
    {
     "name": "stdout",
     "output_type": "stream",
     "text": [
      "Enter your text here: Enter your text here: United States Declaration of Independence From Wikipedia, the free encyclopedia The United States Declaration of Independence is the statement adopted by the Second Continental Congress meeting at the Pennsylvania State House (Independence Hall) in Philadelphia on July 4, 1776, which announced that the thirteen American colonies, then at war with the Kingdom of Great Britain, regarded themselves as thirteen independent sovereign states, no longer under British rule. These states would found a new nation – the United States of America. John Adams was a leader in pushing for independence, which was passed on July 2 with no opposing vote cast. A committee of five had already drafted theformal declaration, to be ready when Congress voted on independence. John Adams persuaded the committee to select Thomas Jefferson to compose the  original draft of the document, which Congress would edit to produce the final version. The Declaration was ultimately a formal explanation of why Congress had voted on July 2 to declare independence from Great Britain, more than a year after the outbreak of the American Revolutionary War. The next day, Adams wrote to his wife Abigail: \"The Second Day of July 1776, will be the most memorable Epocha, in the History of America.\" But Independence Day is actually celebrated on July 4, the date that the Declaration of Independence was approved. After ratifying the text on July 4, Congress issued the Declaration of Independence in several forms. It was initially published as the printed Dunlap broadside that was  widely distributed and read to the public. The source copy used for this printing has been  lost, and may have been a copy in Thomas Jefferson's hand.[5] Jefferson's original draft,  complete with changes made by John Adams and Benjamin Franklin, and Jefferson's notes of  changes made by Congress, are preserved at the Library of Congress. The best-known version of the  Declarationis a signed copy that is displayed at the National Archives in Washington, D.C., and  which is popularly regarded as the official document. This engrossed copy was ordered by  Congress on July 19 and signed primarily on August 2. The sources and interpretation of the Declaration have been the subject of much  scholarly inquiry. The Declaration justified the independence of the United States by listing colonial  grievances against King George III, and by asserting certain natural and legal rights, including a right of  revolution. Having served its original purpose in announcing independence, references to the text  of the Declaration were few in the following years. Abraham Lincoln made it the centerpiece  of his rhetoric (as in the Gettysburg Address of 1863) and his policies. Since then, it has become a  well-known statement on human rights, particularly its second sentence: We hold these truths to be self-evident, that all men are created equal, that they are  endowed by their Creator with certain unalienable Rights, that among these are Life, Liberty and the pursuit  of Happiness.This has been called \"one of the best-known sentences in the English language\",  containing \"the most potent and consequential words in American history\". The passage came to represent a  moral standard to which the United States should strive. This view was notably promoted by Abraham Lincoln,  who considered the Declaration to be the foundation of his political philosophy and argued that it is a  statement of principles through which the United States Constitution should be interpreted. The U.S. Declaration of Independence inspired many other similar documents in other  countries, the first being the 1789 Declaration of Flanders issued during the Brabant Revolution in the  Austrian Netherlands (modern-day Belgium). It also served as the primary model for numerous declarations  of independence across Europe and Latin America, as well as Africa (Liberia) and Oceania (New Zealand)  during the first half of the 19th century.\n",
      "['Enter', 'your', 'text', 'here:', 'United', 'States', 'Declaration', 'of', 'Independence', 'From', 'Wikipedia,', 'the', 'free', 'encyclopedia', 'The', 'United', 'States', 'Declaration', 'of', 'Independence', 'is', 'the', 'statement', 'adopted', 'by', 'the', 'Second', 'Continental', 'Congress', 'meeting', 'at', 'the', 'Pennsylvania', 'State', 'House', '(Independence', 'Hall)', 'in', 'Philadelphia', 'on', 'July', '4,', '1776,', 'which', 'announced', 'that', 'the', 'thirteen', 'American', 'colonies,', 'then', 'at', 'war', 'with', 'the', 'Kingdom', 'of', 'Great', 'Britain,', 'regarded', 'themselves', 'as', 'thirteen', 'independent', 'sovereign', 'states,', 'no', 'longer', 'under', 'British', 'rule.', 'These', 'states', 'would', 'found', 'a', 'new', 'nation', '–', 'the', 'United', 'States', 'of', 'America.', 'John', 'Adams', 'was', 'a', 'leader', 'in', 'pushing', 'for', 'independence,', 'which', 'was', 'passed', 'on', 'July', '2', 'with', 'no', 'opposing', 'vote', 'cast.', 'A', 'committee', 'of', 'five', 'had', 'already', 'drafted', 'theformal', 'declaration,', 'to', 'be', 'ready', 'when', 'Congress', 'voted', 'on', 'independence.', 'John', 'Adams', 'persuaded', 'the', 'committee', 'to', 'select', 'Thomas', 'Jefferson', 'to', 'compose', 'the', 'original', 'draft', 'of', 'the', 'document,', 'which', 'Congress', 'would', 'edit', 'to', 'produce', 'the', 'final', 'version.', 'The', 'Declaration', 'was', 'ultimately', 'a', 'formal', 'explanation', 'of', 'why', 'Congress', 'had', 'voted', 'on', 'July', '2', 'to', 'declare', 'independence', 'from', 'Great', 'Britain,', 'more', 'than', 'a', 'year', 'after', 'the', 'outbreak', 'of', 'the', 'American', 'Revolutionary', 'War.', 'The', 'next', 'day,', 'Adams', 'wrote', 'to', 'his', 'wife', 'Abigail:', '\"The', 'Second', 'Day', 'of', 'July', '1776,', 'will', 'be', 'the', 'most', 'memorable', 'Epocha,', 'in', 'the', 'History', 'of', 'America.\"', 'But', 'Independence', 'Day', 'is', 'actually', 'celebrated', 'on', 'July', '4,', 'the', 'date', 'that', 'the', 'Declaration', 'of', 'Independence', 'was', 'approved.', 'After', 'ratifying', 'the', 'text', 'on', 'July', '4,', 'Congress', 'issued', 'the', 'Declaration', 'of', 'Independence', 'in', 'several', 'forms.', 'It', 'was', 'initially', 'published', 'as', 'the', 'printed', 'Dunlap', 'broadside', 'that', 'was', 'widely', 'distributed', 'and', 'read', 'to', 'the', 'public.', 'The', 'source', 'copy', 'used', 'for', 'this', 'printing', 'has', 'been', 'lost,', 'and', 'may', 'have', 'been', 'a', 'copy', 'in', 'Thomas', \"Jefferson's\", 'hand.[5]', \"Jefferson's\", 'original', 'draft,', 'complete', 'with', 'changes', 'made', 'by', 'John', 'Adams', 'and', 'Benjamin', 'Franklin,', 'and', \"Jefferson's\", 'notes', 'of', 'changes', 'made', 'by', 'Congress,', 'are', 'preserved', 'at', 'the', 'Library', 'of', 'Congress.', 'The', 'best-known', 'version', 'of', 'the', 'Declarationis', 'a', 'signed', 'copy', 'that', 'is', 'displayed', 'at', 'the', 'National', 'Archives', 'in', 'Washington,', 'D.C.,', 'and', 'which', 'is', 'popularly', 'regarded', 'as', 'the', 'official', 'document.', 'This', 'engrossed', 'copy', 'was', 'ordered', 'by', 'Congress', 'on', 'July', '19', 'and', 'signed', 'primarily', 'on', 'August', '2.', 'The', 'sources', 'and', 'interpretation', 'of', 'the', 'Declaration', 'have', 'been', 'the', 'subject', 'of', 'much', 'scholarly', 'inquiry.', 'The', 'Declaration', 'justified', 'the', 'independence', 'of', 'the', 'United', 'States', 'by', 'listing', 'colonial', 'grievances', 'against', 'King', 'George', 'III,', 'and', 'by', 'asserting', 'certain', 'natural', 'and', 'legal', 'rights,', 'including', 'a', 'right', 'of', 'revolution.', 'Having', 'served', 'its', 'original', 'purpose', 'in', 'announcing', 'independence,', 'references', 'to', 'the', 'text', 'of', 'the', 'Declaration', 'were', 'few', 'in', 'the', 'following', 'years.', 'Abraham', 'Lincoln', 'made', 'it', 'the', 'centerpiece', 'of', 'his', 'rhetoric', '(as', 'in', 'the', 'Gettysburg', 'Address', 'of', '1863)', 'and', 'his', 'policies.', 'Since', 'then,', 'it', 'has', 'become', 'a', 'well-known', 'statement', 'on', 'human', 'rights,', 'particularly', 'its', 'second', 'sentence:', 'We', 'hold', 'these', 'truths', 'to', 'be', 'self-evident,', 'that', 'all', 'men', 'are', 'created', 'equal,', 'that', 'they', 'are', 'endowed', 'by', 'their', 'Creator', 'with', 'certain', 'unalienable', 'Rights,', 'that', 'among', 'these', 'are', 'Life,', 'Liberty', 'and', 'the', 'pursuit', 'of', 'Happiness.This', 'has', 'been', 'called', '\"one', 'of', 'the', 'best-known', 'sentences', 'in', 'the', 'English', 'language\",', 'containing', '\"the', 'most', 'potent', 'and', 'consequential', 'words', 'in', 'American', 'history\".', 'The', 'passage', 'came', 'to', 'represent', 'a', 'moral', 'standard', 'to', 'which', 'the', 'United', 'States', 'should', 'strive.', 'This', 'view', 'was', 'notably', 'promoted', 'by', 'Abraham', 'Lincoln,', 'who', 'considered', 'the', 'Declaration', 'to', 'be', 'the', 'foundation', 'of', 'his', 'political', 'philosophy', 'and', 'argued', 'that', 'it', 'is', 'a', 'statement', 'of', 'principles', 'through', 'which', 'the', 'United', 'States', 'Constitution', 'should', 'be', 'interpreted.', 'The', 'U.S.', 'Declaration', 'of', 'Independence', 'inspired', 'many', 'other', 'similar', 'documents', 'in', 'other', 'countries,', 'the', 'first', 'being', 'the', '1789', 'Declaration', 'of', 'Flanders', 'issued', 'during', 'the', 'Brabant', 'Revolution', 'in', 'the', 'Austrian', 'Netherlands', '(modern-day', 'Belgium).', 'It', 'also', 'served', 'as', 'the', 'primary', 'model', 'for', 'numerous', 'declarations', 'of', 'independence', 'across', 'Europe', 'and', 'Latin', 'America,', 'as', 'well', 'as', 'Africa', '(Liberia)', 'and', 'Oceania', '(New', 'Zealand)', 'during', 'the', 'first', 'half', 'of', 'the', '19th', 'century.']\n",
      "48\n"
     ]
    }
   ],
   "source": [
    "str_lst_count()"
   ]
  },
  {
   "cell_type": "code",
   "execution_count": 116,
   "id": "4ad4b817",
   "metadata": {},
   "outputs": [],
   "source": [
    "#13\n",
    "def str_lst_count():\n",
    "    '''\n",
    "    first, get the input text, then split the words from space point, then make it a list.\n",
    "    now, the elements of the list should be counted\n",
    "    however, i can only find a way to count certain words, not all\n",
    "    '''\n",
    "    txt = input('Enter your text here: ')\n",
    "    str_lst = list(txt.split())\n",
    "    num_elements = str_lst.count('the')\n",
    "    print('{} \\nthe list of words in this text is shown above'.format(str_lst))\n",
    "    print(\"{} \\n the number of times 'the' occurs in the text is shown above1\".format(num_elements))"
   ]
  },
  {
   "cell_type": "code",
   "execution_count": 117,
   "id": "f6766087",
   "metadata": {},
   "outputs": [
    {
     "name": "stdout",
     "output_type": "stream",
     "text": [
      "Enter your text here: United States Declaration of Independence From Wikipedia, the free encyclopedia The United States Declaration of Independence is the statement adopted by the Second Continental Congress meeting at the Pennsylvania State House (Independence Hall) in Philadelphia on July 4, 1776, which announced that the thirteen American colonies, then at war with the Kingdom of Great Britain, regarded themselves as thirteen independent sovereign states, no longer under British rule. These states would found a new nation – the United States of America. John Adams was a leader in pushing for independence, which was passed on July 2 with no opposing vote cast. A committee of five had already drafted theformal declaration, to be ready when Congress voted on independence. John Adams persuaded the committee to select Thomas Jefferson to compose the  original draft of the document, which Congress would edit to produce the final version. The Declaration was ultimately a formal explanation of why Congress had voted on July 2 to declare independence from Great Britain, more than a year after the outbreak of the American Revolutionary War. The next day, Adams wrote to his wife Abigail: \"The Second Day of July 1776, will be the most memorable Epocha, in the History of America.\" But Independence Day is actually celebrated on July 4, the date that the Declaration of Independence was approved. After ratifying the text on July 4, Congress issued the Declaration of Independence in several forms. It was initially published as the printed Dunlap broadside that was  widely distributed and read to the public. The source copy used for this printing has been  lost, and may have been a copy in Thomas Jefferson's hand.[5] Jefferson's original draft,  complete with changes made by John Adams and Benjamin Franklin, and Jefferson's notes of  changes made by Congress, are preserved at the Library of Congress. The best-known version of the  Declarationis a signed copy that is displayed at the National Archives in Washington, D.C., and  which is popularly regarded as the official document. This engrossed copy was ordered by  Congress on July 19 and signed primarily on August 2. The sources and interpretation of the Declaration have been the subject of much  scholarly inquiry. The Declaration justified the independence of the United States by listing colonial  grievances against King George III, and by asserting certain natural and legal rights, including a right of  revolution. Having served its original purpose in announcing independence, references to the text  of the Declaration were few in the following years. Abraham Lincoln made it the centerpiece  of his rhetoric (as in the Gettysburg Address of 1863) and his policies. Since then, it has become a  well-known statement on human rights, particularly its second sentence: We hold these truths to be self-evident, that all men are created equal, that they are  endowed by their Creator with certain unalienable Rights, that among these are Life, Liberty and the pursuit  of Happiness.This has been called \"one of the best-known sentences in the English language\",  containing \"the most potent and consequential words in American history\". The passage came to represent a  moral standard to which the United States should strive. This view was notably promoted by Abraham Lincoln,  who considered the Declaration to be the foundation of his political philosophy and argued that it is a  statement of principles through which the United States Constitution should be interpreted. The U.S. Declaration of Independence inspired many other similar documents in other  countries, the first being the 1789 Declaration of Flanders issued during the Brabant Revolution in the  Austrian Netherlands (modern-day Belgium). It also served as the primary model for numerous declarations  of independence across Europe and Latin America, as well as Africa (Liberia) and Oceania (New Zealand)  during the first half of the 19th century.\n",
      "['United', 'States', 'Declaration', 'of', 'Independence', 'From', 'Wikipedia,', 'the', 'free', 'encyclopedia', 'The', 'United', 'States', 'Declaration', 'of', 'Independence', 'is', 'the', 'statement', 'adopted', 'by', 'the', 'Second', 'Continental', 'Congress', 'meeting', 'at', 'the', 'Pennsylvania', 'State', 'House', '(Independence', 'Hall)', 'in', 'Philadelphia', 'on', 'July', '4,', '1776,', 'which', 'announced', 'that', 'the', 'thirteen', 'American', 'colonies,', 'then', 'at', 'war', 'with', 'the', 'Kingdom', 'of', 'Great', 'Britain,', 'regarded', 'themselves', 'as', 'thirteen', 'independent', 'sovereign', 'states,', 'no', 'longer', 'under', 'British', 'rule.', 'These', 'states', 'would', 'found', 'a', 'new', 'nation', '–', 'the', 'United', 'States', 'of', 'America.', 'John', 'Adams', 'was', 'a', 'leader', 'in', 'pushing', 'for', 'independence,', 'which', 'was', 'passed', 'on', 'July', '2', 'with', 'no', 'opposing', 'vote', 'cast.', 'A', 'committee', 'of', 'five', 'had', 'already', 'drafted', 'theformal', 'declaration,', 'to', 'be', 'ready', 'when', 'Congress', 'voted', 'on', 'independence.', 'John', 'Adams', 'persuaded', 'the', 'committee', 'to', 'select', 'Thomas', 'Jefferson', 'to', 'compose', 'the', 'original', 'draft', 'of', 'the', 'document,', 'which', 'Congress', 'would', 'edit', 'to', 'produce', 'the', 'final', 'version.', 'The', 'Declaration', 'was', 'ultimately', 'a', 'formal', 'explanation', 'of', 'why', 'Congress', 'had', 'voted', 'on', 'July', '2', 'to', 'declare', 'independence', 'from', 'Great', 'Britain,', 'more', 'than', 'a', 'year', 'after', 'the', 'outbreak', 'of', 'the', 'American', 'Revolutionary', 'War.', 'The', 'next', 'day,', 'Adams', 'wrote', 'to', 'his', 'wife', 'Abigail:', '\"The', 'Second', 'Day', 'of', 'July', '1776,', 'will', 'be', 'the', 'most', 'memorable', 'Epocha,', 'in', 'the', 'History', 'of', 'America.\"', 'But', 'Independence', 'Day', 'is', 'actually', 'celebrated', 'on', 'July', '4,', 'the', 'date', 'that', 'the', 'Declaration', 'of', 'Independence', 'was', 'approved.', 'After', 'ratifying', 'the', 'text', 'on', 'July', '4,', 'Congress', 'issued', 'the', 'Declaration', 'of', 'Independence', 'in', 'several', 'forms.', 'It', 'was', 'initially', 'published', 'as', 'the', 'printed', 'Dunlap', 'broadside', 'that', 'was', 'widely', 'distributed', 'and', 'read', 'to', 'the', 'public.', 'The', 'source', 'copy', 'used', 'for', 'this', 'printing', 'has', 'been', 'lost,', 'and', 'may', 'have', 'been', 'a', 'copy', 'in', 'Thomas', \"Jefferson's\", 'hand.[5]', \"Jefferson's\", 'original', 'draft,', 'complete', 'with', 'changes', 'made', 'by', 'John', 'Adams', 'and', 'Benjamin', 'Franklin,', 'and', \"Jefferson's\", 'notes', 'of', 'changes', 'made', 'by', 'Congress,', 'are', 'preserved', 'at', 'the', 'Library', 'of', 'Congress.', 'The', 'best-known', 'version', 'of', 'the', 'Declarationis', 'a', 'signed', 'copy', 'that', 'is', 'displayed', 'at', 'the', 'National', 'Archives', 'in', 'Washington,', 'D.C.,', 'and', 'which', 'is', 'popularly', 'regarded', 'as', 'the', 'official', 'document.', 'This', 'engrossed', 'copy', 'was', 'ordered', 'by', 'Congress', 'on', 'July', '19', 'and', 'signed', 'primarily', 'on', 'August', '2.', 'The', 'sources', 'and', 'interpretation', 'of', 'the', 'Declaration', 'have', 'been', 'the', 'subject', 'of', 'much', 'scholarly', 'inquiry.', 'The', 'Declaration', 'justified', 'the', 'independence', 'of', 'the', 'United', 'States', 'by', 'listing', 'colonial', 'grievances', 'against', 'King', 'George', 'III,', 'and', 'by', 'asserting', 'certain', 'natural', 'and', 'legal', 'rights,', 'including', 'a', 'right', 'of', 'revolution.', 'Having', 'served', 'its', 'original', 'purpose', 'in', 'announcing', 'independence,', 'references', 'to', 'the', 'text', 'of', 'the', 'Declaration', 'were', 'few', 'in', 'the', 'following', 'years.', 'Abraham', 'Lincoln', 'made', 'it', 'the', 'centerpiece', 'of', 'his', 'rhetoric', '(as', 'in', 'the', 'Gettysburg', 'Address', 'of', '1863)', 'and', 'his', 'policies.', 'Since', 'then,', 'it', 'has', 'become', 'a', 'well-known', 'statement', 'on', 'human', 'rights,', 'particularly', 'its', 'second', 'sentence:', 'We', 'hold', 'these', 'truths', 'to', 'be', 'self-evident,', 'that', 'all', 'men', 'are', 'created', 'equal,', 'that', 'they', 'are', 'endowed', 'by', 'their', 'Creator', 'with', 'certain', 'unalienable', 'Rights,', 'that', 'among', 'these', 'are', 'Life,', 'Liberty', 'and', 'the', 'pursuit', 'of', 'Happiness.This', 'has', 'been', 'called', '\"one', 'of', 'the', 'best-known', 'sentences', 'in', 'the', 'English', 'language\",', 'containing', '\"the', 'most', 'potent', 'and', 'consequential', 'words', 'in', 'American', 'history\".', 'The', 'passage', 'came', 'to', 'represent', 'a', 'moral', 'standard', 'to', 'which', 'the', 'United', 'States', 'should', 'strive.', 'This', 'view', 'was', 'notably', 'promoted', 'by', 'Abraham', 'Lincoln,', 'who', 'considered', 'the', 'Declaration', 'to', 'be', 'the', 'foundation', 'of', 'his', 'political', 'philosophy', 'and', 'argued', 'that', 'it', 'is', 'a', 'statement', 'of', 'principles', 'through', 'which', 'the', 'United', 'States', 'Constitution', 'should', 'be', 'interpreted.', 'The', 'U.S.', 'Declaration', 'of', 'Independence', 'inspired', 'many', 'other', 'similar', 'documents', 'in', 'other', 'countries,', 'the', 'first', 'being', 'the', '1789', 'Declaration', 'of', 'Flanders', 'issued', 'during', 'the', 'Brabant', 'Revolution', 'in', 'the', 'Austrian', 'Netherlands', '(modern-day', 'Belgium).', 'It', 'also', 'served', 'as', 'the', 'primary', 'model', 'for', 'numerous', 'declarations', 'of', 'independence', 'across', 'Europe', 'and', 'Latin', 'America,', 'as', 'well', 'as', 'Africa', '(Liberia)', 'and', 'Oceania', '(New', 'Zealand)', 'during', 'the', 'first', 'half', 'of', 'the', '19th', 'century.'] \n",
      "the list of words in this text is shown above\n",
      "48 \n",
      " the number of times 'the' occurs in the text is shown above1\n"
     ]
    }
   ],
   "source": [
    "str_lst_count()"
   ]
  },
  {
   "cell_type": "code",
   "execution_count": null,
   "id": "c3b848c1",
   "metadata": {},
   "outputs": [],
   "source": [
    "#14 a function that prints all the subsets of a set\n",
    "#idk"
   ]
  }
 ],
 "metadata": {
  "kernelspec": {
   "display_name": "Python 3 (ipykernel)",
   "language": "python",
   "name": "python3"
  },
  "language_info": {
   "codemirror_mode": {
    "name": "ipython",
    "version": 3
   },
   "file_extension": ".py",
   "mimetype": "text/x-python",
   "name": "python",
   "nbconvert_exporter": "python",
   "pygments_lexer": "ipython3",
   "version": "3.9.13"
  }
 },
 "nbformat": 4,
 "nbformat_minor": 5
}
